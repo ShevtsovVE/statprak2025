{
 "cells": [
  {
   "cell_type": "markdown",
   "id": "15838121",
   "metadata": {},
   "source": [
    "# Malware Detection in Network Traffic Data"
   ]
  },
  {
   "cell_type": "markdown",
   "id": "700e0789",
   "metadata": {},
   "source": [
    "## Введение"
   ]
  },
  {
   "cell_type": "markdown",
   "id": "cb35c28c",
   "metadata": {},
   "source": [
    "Над проектом работают: **Шевцов Владислав**, **Иващенко Дмитрий**."
   ]
  },
  {
   "cell_type": "markdown",
   "id": "17a1156d",
   "metadata": {},
   "source": [
    "### Постановка задачи"
   ]
  },
  {
   "cell_type": "markdown",
   "id": "218eb7ac",
   "metadata": {},
   "source": [
    "В данном проекте исследуется датасет [Malware Detection in Network Traffic Data](https://www.kaggle.com/datasets/agungpambudi/network-malware-detection-connection-analysis).\n",
    "\n",
    "Необходимо построить модель машинного обучения, которая по метаданным каждого сетевого потока классифицирует трафик как \"нормальный\" и \"вредоносный\"."
   ]
  },
  {
   "cell_type": "markdown",
   "id": "17804aa6",
   "metadata": {},
   "source": [
    "### Цели исследования"
   ]
  },
  {
   "cell_type": "markdown",
   "id": "9c74acb8",
   "metadata": {},
   "source": [
    "1. Разведочный анализ и подготовка данных:\n",
    "\t* отобрать ключевой набор признаков\n",
    "\t* обработать пропуски, закодировать категориальные признаки\n",
    "\t* изучить распределения признаков, зависимости и оценить корреляции признаков с целевой переменной\n",
    "2. Построение и сравнение трёх алгоритмов:\n",
    "\t* логистическая регрессия\n",
    "\t* k-NN\n",
    "\t* XGBoost\n",
    "3. Оценка качества моделей.\n",
    "4. Выбор финальной модели и рекомендации."
   ]
  },
  {
   "cell_type": "markdown",
   "id": "884c0077",
   "metadata": {},
   "source": [
    "### О данных"
   ]
  },
  {
   "cell_type": "markdown",
   "id": "7a5cfcc1",
   "metadata": {},
   "source": [
    "* Каждая строка описывает сетевой поток с более чем 20 атрибутами: IP-адреса и порты, протокол, длительность, счётчики пакетов/байтов, состояние сеанса и др.\n",
    "* Датасет снабжён двумя уровнями разметки:\n",
    "\t+ `label` — **Benign** или **Malicious** (будет целевой переменной);\n",
    "\t+ `detailed-label` — 10 конкретных подтипов атак (используются лишь для валидации и анализа ошибок, но не для обучения)."
   ]
  },
  {
   "cell_type": "markdown",
   "id": "3d23d53c",
   "metadata": {},
   "source": [
    "## Разведочный анализ данных (EDA)"
   ]
  },
  {
   "cell_type": "markdown",
   "id": "e4c7be60",
   "metadata": {},
   "source": [
    "### Подключение библиотек"
   ]
  },
  {
   "cell_type": "code",
   "execution_count": null,
   "id": "e18662e9",
   "metadata": {},
   "outputs": [],
   "source": [
    "import pandas as pd\n",
    "import numpy as np\n",
    "import matplotlib.pyplot as plt\n",
    "import seaborn as sns\n",
    "%matplotlib inline\n",
    "\n",
    "plt.rcParams['figure.dpi'] = 300\n",
    "plt.style.use('seaborn-v0_8-whitegrid')"
   ]
  },
  {
   "cell_type": "markdown",
   "id": "a6223219",
   "metadata": {},
   "source": [
    "### Загрузка данных"
   ]
  },
  {
   "cell_type": "code",
   "execution_count": null,
   "id": "25f2ce6d",
   "metadata": {},
   "outputs": [],
   "source": [
    "df = pd.read_csv('dataset/CTU-IoT-Malware-Capture-1-1conn.log.labeled.csv', delimiter='|')\n",
    "\n",
    "df.shape"
   ]
  },
  {
   "cell_type": "markdown",
   "id": "a2a7f424",
   "metadata": {},
   "source": [
    "### Первичный обзор структуры датасета"
   ]
  },
  {
   "cell_type": "code",
   "execution_count": null,
   "id": "dbbe4d64",
   "metadata": {},
   "outputs": [],
   "source": [
    "display(df.sample(5, random_state=42))\n",
    "\n",
    "df.info()"
   ]
  },
  {
   "cell_type": "markdown",
   "id": "b5f0a3ae",
   "metadata": {},
   "source": [
    "### Предобработка данных"
   ]
  },
  {
   "cell_type": "markdown",
   "id": "180a283f",
   "metadata": {},
   "source": [
    "Начнём с того, что сразу же удалим столбцы, которые вряд ли могут пригодиться, а именно:\n",
    "* `ts` - временная метка события подключения.\n",
    "* `uid` - уникальный идентификатор соединения.\n",
    "* `id.orig_h` - \n",
    "* `id.resp_h` - \n",
    "* `local_orig` и `local_resp` - указывает, считается ли соединение локальным или нет.\n",
    "* `missed_bytes` - количество пропущенных байтов в соединении.\n",
    "* `tunnel_parents` - указывает, является ли это соединение частью туннеля.\n",
    "* `detailed-label` - более подробное описание или метка соединения."
   ]
  },
  {
   "cell_type": "code",
   "execution_count": null,
   "id": "af77fc12",
   "metadata": {},
   "outputs": [],
   "source": [
    "cols_to_del = [\n",
    "    'ts',\n",
    "    'uid',\n",
    "    'id.orig_h',\n",
    "    'id.resp_h',\n",
    "    'local_orig',\n",
    "    'local_resp',\n",
    "    'missed_bytes',\n",
    "    'tunnel_parents',\n",
    "    'detailed-label'\n",
    "]\n",
    "\n",
    "df_copy = df.drop(columns=cols_to_del)"
   ]
  },
  {
   "cell_type": "code",
   "execution_count": null,
   "id": "88a376df",
   "metadata": {},
   "outputs": [],
   "source": [
    "df_copy.info()"
   ]
  },
  {
   "cell_type": "markdown",
   "id": "a05486ed",
   "metadata": {},
   "source": [
    "Далее наведём порядок по типу данных для каждого столбца:"
   ]
  },
  {
   "cell_type": "code",
   "execution_count": null,
   "id": "86ee2eec",
   "metadata": {},
   "outputs": [],
   "source": [
    "for col in df_copy.columns:\n",
    "    print(df_copy[col].value_counts())"
   ]
  },
  {
   "cell_type": "code",
   "execution_count": null,
   "id": "0671cd27",
   "metadata": {},
   "outputs": [],
   "source": [
    "df_copy['id.orig_p'] = df_copy['id.orig_p'].astype('int64')\n",
    "\n",
    "df_copy['id.resp_p'] = df_copy['id.resp_p'].astype('int64')\n",
    "\n",
    "df_copy['proto'] = df_copy['proto'].astype('string')\n",
    "\n",
    "df_copy['service'] = df_copy['service'].astype('string')\n",
    "\n",
    "df_copy['duration'] = df_copy['duration'].astype('string')\n",
    "df_copy['duration'] = df_copy['duration'].replace('-', '-1')\n",
    "df_copy['duration'] = df_copy['duration'].astype('float64')\n",
    "\n",
    "df_copy['orig_bytes'] = df_copy['orig_bytes'].astype('string')\n",
    "df_copy['orig_bytes'] = df_copy['orig_bytes'].replace('-', '-1')\n",
    "df_copy['orig_bytes'] = df_copy['orig_bytes'].astype('int64')\n",
    "\n",
    "df_copy['resp_bytes'] = df_copy['resp_bytes'].astype('string')\n",
    "df_copy['resp_bytes'] = df_copy['resp_bytes'].replace('-', '-1')\n",
    "df_copy['resp_bytes'] = df_copy['resp_bytes'].astype('int64')\n",
    "\n",
    "df_copy['conn_state'] = df_copy['conn_state'].astype('string')\n",
    "\n",
    "df_copy['history'] = df_copy['history'].astype('string')\n",
    "\n",
    "df_copy['orig_pkts'] = df_copy['orig_pkts'].astype('int64')\n",
    "\n",
    "df_copy['orig_ip_bytes'] = df_copy['orig_ip_bytes'].astype('int64')\n",
    "\n",
    "df_copy['resp_pkts'] = df_copy['resp_pkts'].astype('int64')\n",
    "\n",
    "df_copy['resp_ip_bytes'] = df_copy['resp_ip_bytes'].astype('int64')\n",
    "\n",
    "df_copy['label'] = df_copy['label'].astype('string')"
   ]
  },
  {
   "cell_type": "markdown",
   "id": "0736b999",
   "metadata": {},
   "source": [
    "Теперь выделим отдельно `label`:"
   ]
  },
  {
   "cell_type": "code",
   "execution_count": null,
   "id": "462a4065",
   "metadata": {},
   "outputs": [],
   "source": [
    "df_label = df_copy[['label']].copy()"
   ]
  },
  {
   "cell_type": "markdown",
   "id": "df6a02a0",
   "metadata": {},
   "source": [
    "Осталось лишь закодировать `proto`, `service`, `conn_state` и `history`. Будем использовать два подхода: `OrdinalEncoder` и `OneHotEncoder`."
   ]
  },
  {
   "cell_type": "code",
   "execution_count": null,
   "id": "5bc1b0d1",
   "metadata": {},
   "outputs": [],
   "source": [
    "cat_cols = ['proto', 'service', 'conn_state', 'history']"
   ]
  },
  {
   "cell_type": "code",
   "execution_count": null,
   "id": "2f368d52",
   "metadata": {},
   "outputs": [],
   "source": [
    "from sklearn.preprocessing import OrdinalEncoder\n",
    "\n",
    "df_enc = df_copy.copy()\n",
    "df_enc = df_enc.drop(columns=['label'])\n",
    "\n",
    "print('Before ordinal encoding:')\n",
    "print(df_enc.values[0])\n",
    "print(df_enc.shape)\n",
    "\n",
    "enc = OrdinalEncoder(handle_unknown='use_encoded_value', unknown_value=-1)\n",
    "\n",
    "df_enc[cat_cols] = enc.fit_transform(df_enc[cat_cols])\n",
    "\n",
    "print('After ordinal encoding:')\n",
    "print(df_enc.values[0])\n",
    "print(df_enc.shape)"
   ]
  },
  {
   "cell_type": "code",
   "execution_count": null,
   "id": "81180527",
   "metadata": {},
   "outputs": [],
   "source": [
    "from sklearn.preprocessing import OneHotEncoder\n",
    "\n",
    "df_ohe = df_copy.copy()\n",
    "df_ohe = df_ohe.drop(columns=['label'])\n",
    "\n",
    "print('Before one-hot encoding:')\n",
    "print(df_ohe.values[0])\n",
    "print(df_ohe.shape)\n",
    "\n",
    "ohe = OneHotEncoder(handle_unknown='ignore',\n",
    "                    sparse_output=False,\n",
    "                    dtype='int8',\n",
    "                    min_frequency=120,\n",
    "                    drop='first'\n",
    "      )\n",
    "\n",
    "encoded = ohe.fit_transform(df_ohe[cat_cols])\n",
    "\n",
    "new_cols = ohe.get_feature_names_out(cat_cols)\n",
    "\n",
    "encoded_df = pd.DataFrame(encoded, columns=new_cols, index=df_ohe.index)\n",
    "\n",
    "df_ohe = pd.concat([df_ohe.drop(columns=cat_cols), encoded_df], axis=1)\n",
    "\n",
    "print('After one-hot encoding:')\n",
    "print(df_ohe.values[0])\n",
    "print(df_ohe.shape)"
   ]
  },
  {
   "cell_type": "markdown",
   "id": "0226fd77",
   "metadata": {},
   "source": [
    "Итак, теперь мы имеем:\n",
    "* `df_copy` - предобработанные данные без кодирования `string` данных и со столбцом `label` (это будет удобно для визуализации).\n",
    "* `df_enc` - предобработанные данные с `OrdinalEncoder`.\n",
    "* `df_ohe` - предобработанные данные с `OneHotEncoder`.\n",
    "* `df_label` - метки."
   ]
  },
  {
   "cell_type": "code",
   "execution_count": null,
   "id": "d3658750",
   "metadata": {},
   "outputs": [],
   "source": [
    "df_copy.info()"
   ]
  },
  {
   "cell_type": "markdown",
   "id": "b91ec95f",
   "metadata": {},
   "source": [
    "### Анализ данных"
   ]
  },
  {
   "cell_type": "markdown",
   "id": "d8f76e9e",
   "metadata": {},
   "source": [
    "#### Распределение целевого признака"
   ]
  },
  {
   "cell_type": "code",
   "execution_count": null,
   "id": "bb97de26",
   "metadata": {},
   "outputs": [],
   "source": [
    "df_label['label'].value_counts().plot(kind='bar', figsize=(6,4))\n",
    "plt.title('Распределение классов')\n",
    "plt.xlabel('Класс')\n",
    "plt.ylabel('Количество')\n",
    "plt.show()"
   ]
  },
  {
   "cell_type": "markdown",
   "id": "ae071686",
   "metadata": {},
   "source": [
    "Отсюда можно сделать вывод, что не придётся бороться с явным дисбалансом классов (хотя с метриками даже при небольшом дисбалансе надо быть аккуратнее). "
   ]
  },
  {
   "cell_type": "markdown",
   "id": "1977182c",
   "metadata": {},
   "source": [
    "#### Распределения категориальных признаков"
   ]
  },
  {
   "cell_type": "code",
   "execution_count": null,
   "id": "bffe13ca",
   "metadata": {},
   "outputs": [],
   "source": [
    "cat_cols = ['proto', 'service', 'conn_state', 'history']\n",
    "\n",
    "TOP_N = 10\n",
    "\n",
    "count_tables = {}\n",
    "rate_tables = {}\n",
    "\n",
    "for col in cat_cols:\n",
    "    # Берём TOP_N категорий по общему количеству\n",
    "    top_vals = df_copy[col].value_counts().nlargest(TOP_N).index\n",
    "    sub = df_copy[df_copy[col].isin(top_vals)]\n",
    "    \n",
    "    # Абсолютные частоты\n",
    "    counts = pd.crosstab(sub[col], sub['label']).reindex(top_vals)\n",
    "    count_tables[col] = counts\n",
    "    \n",
    "    # Доля Malicious\n",
    "    rates = counts.div(counts.sum(axis=1), axis=0)['Malicious']\n",
    "    rate_tables[col] = rates"
   ]
  },
  {
   "cell_type": "code",
   "execution_count": null,
   "id": "6d08228a",
   "metadata": {},
   "outputs": [],
   "source": [
    "fig1, axes1 = plt.subplots(2, 2, figsize=(14, 10))\n",
    "axes1 = axes1.flatten()\n",
    "\n",
    "for ax, col in zip(axes1, cat_cols):\n",
    "    counts = count_tables[col]\n",
    "    x = np.arange(len(counts))\n",
    "    \n",
    "    benign = counts['Benign'].values\n",
    "    malicious = counts['Malicious'].values\n",
    "    \n",
    "    ax.bar(x, benign, label='Benign')\n",
    "    ax.bar(x, malicious, bottom=benign, label='Malicious')\n",
    "    \n",
    "    ax.set_title(f'Распределение \\\"{col}\\\" Benign/Malicious (Топ {TOP_N})')\n",
    "    ax.set_xticks(x)\n",
    "    ax.set_xticklabels(counts.index, rotation=45, ha='right')\n",
    "    ax.set_ylabel('Количество')\n",
    "    if col == cat_cols[0]:\n",
    "        ax.legend()\n",
    "\n",
    "fig1.tight_layout()"
   ]
  },
  {
   "cell_type": "code",
   "execution_count": null,
   "id": "f714e106",
   "metadata": {},
   "outputs": [],
   "source": [
    "fig2, axes2 = plt.subplots(2, 2, figsize=(14, 10))\n",
    "axes2 = axes2.flatten()\n",
    "\n",
    "for ax, col in zip(axes2, cat_cols):\n",
    "    rates = rate_tables[col]\n",
    "    x = np.arange(len(rates))\n",
    "    \n",
    "    ax.bar(x, rates.values)\n",
    "    ax.set_ylim(0, 1)\n",
    "    ax.set_title(f'\\\"{col}\\\" доля Malicious (Топ {TOP_N})')\n",
    "    ax.set_xticks(x)\n",
    "    ax.set_xticklabels(rates.index, rotation=45, ha='right')\n",
    "    ax.set_ylabel('Доля Malicious')\n",
    "\n",
    "fig2.tight_layout()"
   ]
  },
  {
   "cell_type": "code",
   "execution_count": null,
   "id": "cd372527",
   "metadata": {},
   "outputs": [],
   "source": [
    "heatmap_df = pd.DataFrame(index=cat_cols, columns=range(TOP_N))\n",
    "\n",
    "for col in cat_cols:\n",
    "    rates = rate_tables[col]\n",
    "    heatmap_df.loc[col, :len(rates)-1] = rates.values\n",
    "\n",
    "fig3, ax3 = plt.subplots(figsize=(12, 4))\n",
    "im = ax3.imshow(heatmap_df.astype(float), aspect='auto')\n",
    "\n",
    "ax3.set_yticks(np.arange(len(cat_cols)))\n",
    "ax3.set_yticklabels(cat_cols)\n",
    "ax3.set_xticks(np.arange(TOP_N))\n",
    "ax3.set_xticklabels([f'Топ {i+1}' for i in range(TOP_N)])\n",
    "ax3.set_title('Доля Malicious: тепловая карта (Топ категорий)')\n",
    "\n",
    "cbar = plt.colorbar(im, ax=ax3)\n",
    "cbar.ax.set_ylabel('Доля Malicious')\n",
    "\n",
    "fig3.tight_layout()\n",
    "\n",
    "plt.show()"
   ]
  },
  {
   "cell_type": "markdown",
   "id": "ac43abc1",
   "metadata": {},
   "source": [
    "#### Распределения числовых признаков"
   ]
  },
  {
   "cell_type": "code",
   "execution_count": null,
   "id": "38d223b8",
   "metadata": {},
   "outputs": [],
   "source": [
    "numeric_cols = df_copy.select_dtypes(include=[\"int64\", \"float64\"]).columns.tolist()"
   ]
  },
  {
   "cell_type": "code",
   "execution_count": null,
   "id": "f1a6bedf",
   "metadata": {},
   "outputs": [],
   "source": [
    "corr = df_copy[numeric_cols].corr(method=\"pearson\")\n",
    "\n",
    "plt.figure(figsize=(11, 9))\n",
    "sns.heatmap(\n",
    "    corr,\n",
    "    annot=True,\n",
    "    fmt=\".2f\",\n",
    "    cmap=\"coolwarm\",\n",
    "    linewidths=.5,\n",
    "    cbar_kws={\"shrink\": .7},\n",
    "    square=True\n",
    ")\n",
    "\n",
    "plt.title(\"Корреляционная матрица числовых признаков\")\n",
    "plt.show()"
   ]
  },
  {
   "cell_type": "code",
   "execution_count": null,
   "id": "a8a268ca",
   "metadata": {},
   "outputs": [],
   "source": [
    "size_sample = 8000\n",
    "random_state = 42\n",
    "\n",
    "pair_df = df_copy.sample(n=size_sample, random_state=random_state)\n",
    "\n",
    "sns.pairplot(\n",
    "    pair_df,\n",
    "    vars=numeric_cols,\n",
    "    hue=\"label\",\n",
    ")\n",
    "\n",
    "plt.show()"
   ]
  },
  {
   "cell_type": "markdown",
   "id": "65219577",
   "metadata": {},
   "source": [
    "Первые три признака (порты + duration) практически не связаны с \"объёмными\" метриками, а последние шесть - это разные способы измерить один и тот же объём трафика.\n",
    "\n",
    "- `orig_pkts` <-> `orig_ip_bytes`\n",
    "- `resp_pkts` <-> `resp_ip_bytes`\n",
    "- `orig_bytes` и `resp_bytes` - почти вложены в IP-байты и тесно связаны с количеством пакетов.\n",
    "\n",
    "Поэтому такая корреляция вполне естественна."
   ]
  }
 ],
 "metadata": {
  "kernelspec": {
   "display_name": ".venv",
   "language": "python",
   "name": "python3"
  },
  "language_info": {
   "codemirror_mode": {
    "name": "ipython",
    "version": 3
   },
   "file_extension": ".py",
   "mimetype": "text/x-python",
   "name": "python",
   "nbconvert_exporter": "python",
   "pygments_lexer": "ipython3",
   "version": "3.12.3"
  }
 },
 "nbformat": 4,
 "nbformat_minor": 5
}
