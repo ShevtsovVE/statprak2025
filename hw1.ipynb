{
 "cells": [
  {
   "cell_type": "markdown",
   "metadata": {
    "id": "xw8BD8v2oBGj"
   },
   "source": [
    "# Homework"
   ]
  },
  {
   "cell_type": "markdown",
   "metadata": {
    "id": "sSos7q2_oBGj"
   },
   "source": [
    "## Problem 1"
   ]
  },
  {
   "cell_type": "markdown",
   "metadata": {
    "id": "NiX8ePp0oBGk"
   },
   "source": [
    "Make a tuple containing natural numbers, the square of which is a multiple of 3, 4, but not a multiple of 8 and not exceeding 12345."
   ]
  },
  {
   "cell_type": "markdown",
   "metadata": {},
   "source": [
    "### Решение"
   ]
  },
  {
   "cell_type": "code",
   "execution_count": 5,
   "metadata": {
    "id": "XmPHEnS9oBGk"
   },
   "outputs": [
    {
     "name": "stdout",
     "output_type": "stream",
     "text": [
      "(6, 18, 30, 42, 54, 66, 78, 90, 102)\n"
     ]
    }
   ],
   "source": [
    "result = tuple(n for n in range(1, int(12345**0.5) + 1) if n**2 % 3 == 0 and n**2 % 4 == 0 and n**2 % 8 != 0) \n",
    "print(result)"
   ]
  },
  {
   "cell_type": "markdown",
   "metadata": {
    "id": "OZBeUyxcoBGk"
   },
   "source": [
    "## Problem 2"
   ]
  },
  {
   "cell_type": "markdown",
   "metadata": {
    "id": "zIfvg22noBGk"
   },
   "source": [
    "\n",
    "Write a function that takes a two-dimensional array and a string as input and returns an array rotated 90 degrees counterclockwise if the string 'left' was passed, and clockwise if the string 'right' was passed.\n",
    "\n",
    "Example for input: $\\begin{bmatrix} 1 & 2 & 3 \\\\ 4 & 5 & 6 \\\\ 7 & 8 & 9 \\end{bmatrix}$.\\\n",
    "If the string 'left' is passed, the function should return $\\begin{bmatrix} 3 & 6 & 9 \\\\ 2 & 5 & 8 \\\\ 1 & 4 & 7 \\end{bmatrix}$, and if the string 'right' is passed, the function should return $\\begin{bmatrix} 7 & 4 & 1 \\\\ 8 & 5 & 2 \\\\ 9 & 6 & 3 \\end{bmatrix}$."
   ]
  },
  {
   "cell_type": "markdown",
   "metadata": {},
   "source": [
    "### Решение"
   ]
  },
  {
   "cell_type": "code",
   "execution_count": 9,
   "metadata": {
    "id": "HNvy_cRjoBGk",
    "scrolled": true
   },
   "outputs": [],
   "source": [
    "def rotate_matrix(matrix, direction):\n",
    "    if direction == \"right\":\n",
    "        # Для поворота по часовой стрелке:\n",
    "        # 1. Переворачиваем порядок строк.\n",
    "        # 2. Транспонируем матрицу.\n",
    "        return [list(row) for row in zip(*matrix[::-1])]\n",
    "    elif direction == \"left\":\n",
    "        # Для поворота против часовой стрелки:\n",
    "        # 1. Транспонируем матрицу.\n",
    "        # 2. Переворачиваем порядок строк.\n",
    "        return [list(row) for row in zip(*matrix)][::-1]\n",
    "    else:\n",
    "        raise ValueError(\"Направление должно быть либо 'left', либо 'right'\")"
   ]
  },
  {
   "cell_type": "markdown",
   "metadata": {},
   "source": [
    "Пример использования:"
   ]
  },
  {
   "cell_type": "code",
   "execution_count": 11,
   "metadata": {},
   "outputs": [],
   "source": [
    "matrix = [\n",
    "    [1, 2, 3],\n",
    "    [4, 5, 6],\n",
    "    [7, 8, 9]\n",
    "]"
   ]
  },
  {
   "cell_type": "markdown",
   "metadata": {},
   "source": [
    "Поворот по часовой стрелке:"
   ]
  },
  {
   "cell_type": "code",
   "execution_count": 13,
   "metadata": {},
   "outputs": [
    {
     "name": "stdout",
     "output_type": "stream",
     "text": [
      "[7, 4, 1]\n",
      "[8, 5, 2]\n",
      "[9, 6, 3]\n"
     ]
    }
   ],
   "source": [
    "for row in rotate_matrix(matrix, \"right\"):\n",
    "    print(row)"
   ]
  },
  {
   "cell_type": "markdown",
   "metadata": {},
   "source": [
    "Поворот против часовой стрелки:"
   ]
  },
  {
   "cell_type": "code",
   "execution_count": 15,
   "metadata": {},
   "outputs": [
    {
     "name": "stdout",
     "output_type": "stream",
     "text": [
      "[3, 6, 9]\n",
      "[2, 5, 8]\n",
      "[1, 4, 7]\n"
     ]
    }
   ],
   "source": [
    "for row in rotate_matrix(matrix, \"left\"):\n",
    "    print(row)"
   ]
  },
  {
   "cell_type": "markdown",
   "metadata": {
    "id": "_dY-PFlCoBGk"
   },
   "source": [
    "## Problem 3"
   ]
  },
  {
   "cell_type": "markdown",
   "metadata": {
    "id": "3CaIwcm0oBGk"
   },
   "source": [
    "Write a function that takes a string as input and returns a dictionary containing the number of occurrences of each character in the string.\n",
    "\n",
    "Example for the string 'hello, world!': {'h': 1, 'e': 1, 'l': 3, 'o': 2, ',': 1, ' ': 1, 'w': 1, 'r': 1, 'd': 1, '!': 1}."
   ]
  },
  {
   "cell_type": "markdown",
   "metadata": {},
   "source": [
    "### Решение"
   ]
  },
  {
   "cell_type": "code",
   "execution_count": 19,
   "metadata": {
    "id": "rlSbHusZoBGk"
   },
   "outputs": [],
   "source": [
    "def count_characters(input_string):\n",
    "    char_count = {}\n",
    "    for char in input_string:\n",
    "        if char in char_count:\n",
    "            char_count[char] += 1\n",
    "        else:\n",
    "            char_count[char] = 1\n",
    "    return char_count"
   ]
  },
  {
   "cell_type": "markdown",
   "metadata": {},
   "source": [
    "Пример использования:"
   ]
  },
  {
   "cell_type": "code",
   "execution_count": 21,
   "metadata": {},
   "outputs": [
    {
     "data": {
      "text/plain": [
       "{'h': 1,\n",
       " 'e': 1,\n",
       " 'l': 3,\n",
       " 'o': 2,\n",
       " ',': 1,\n",
       " ' ': 1,\n",
       " 'w': 1,\n",
       " 'r': 1,\n",
       " 'd': 1,\n",
       " '!': 1}"
      ]
     },
     "execution_count": 21,
     "metadata": {},
     "output_type": "execute_result"
    }
   ],
   "source": [
    "example = \"hello, world!\"\n",
    "count_characters(example)"
   ]
  },
  {
   "cell_type": "markdown",
   "metadata": {
    "id": "KBGJ7PeboBGk"
   },
   "source": [
    "## Problem 4"
   ]
  },
  {
   "cell_type": "markdown",
   "metadata": {
    "id": "XS4Seqa9oBGk"
   },
   "source": [
    "### Implementing a Library Management System\n",
    "\n",
    "#### Description\n",
    "\n",
    "You are required to design and implement a system for managing books and users in a library. The system should allow for the management of books (adding, deleting, searching by various criteria) and users (registration, deletion, searching), as well as tracking the history of interactions between them (issuing and returning books).\n",
    "\n",
    "#### Tasks\n",
    "\n",
    "1. **`Book` Class**:\n",
    "   - Attributes: title, author, year of publication, ISBN, number of copies.\n",
    "   - Methods: constructor, methods to get information about the book, method to change the number of copies (when issuing and returning books).\n",
    "\n",
    "2. **`User` Class**:\n",
    "   - Attributes: user name, library card number, list of borrowed books.\n",
    "   - Methods: constructor, methods for user registration, methods for adding and removing books from the borrowed list.\n",
    "\n",
    "3. **`Library` Class**:\n",
    "   - Attributes: list of books, list of users, transaction history (who, when, which book was borrowed and returned).\n",
    "   - Methods: constructor, methods for adding and deleting books and users, methods for issuing and returning books, searching for books and users by various criteria, method to display the transaction history.\n",
    "\n",
    "#### Assignment\n",
    "\n",
    "1. Implement the `Book`, `User`, and `Library` classes with the specified attributes and methods.\n",
    "2. Create several books and users, and add them to the library system.\n",
    "3. Implement scenarios for issuing books to users and their return.\n",
    "4. Display the transaction history to show how books were issued and returned.\n"
   ]
  },
  {
   "cell_type": "markdown",
   "metadata": {},
   "source": [
    "### Решение"
   ]
  },
  {
   "cell_type": "code",
   "execution_count": 25,
   "metadata": {
    "id": "IbqwtWWsoBGl"
   },
   "outputs": [],
   "source": [
    "from datetime import datetime\n",
    "\n",
    "class Book:\n",
    "    def __init__(self, title, author, year, isbn, copies):\n",
    "        self.title = title\n",
    "        self.author = author\n",
    "        self.year = year\n",
    "        self.isbn = isbn\n",
    "        self.copies = copies\n",
    "\n",
    "    def get_info(self):\n",
    "        return {\n",
    "            \"title\": self.title,\n",
    "            \"author\": self.author,\n",
    "            \"year\": self.year,\n",
    "            \"isbn\": self.isbn,\n",
    "            \"copies\": self.copies\n",
    "        }\n",
    "\n",
    "    def update_copies(self, change):\n",
    "        if self.copies + change < 0:\n",
    "            raise ValueError(\"Недостаточно копий для выдачи.\")\n",
    "        self.copies += change\n",
    "\n",
    "    def __str__(self):\n",
    "        return f\"'{self.title}' автор {self.author} ({self.year}) [ISBN: {self.isbn}] Копий: {self.copies}\"\n",
    "\n",
    "\n",
    "class User:\n",
    "    def __init__(self, name, card_number):\n",
    "        self.name = name\n",
    "        self.card_number = card_number\n",
    "        self.borrowed_books = []\n",
    "\n",
    "    def borrow_book(self, book):\n",
    "        self.borrowed_books.append(book)\n",
    "\n",
    "    def return_book(self, book):\n",
    "        if book in self.borrowed_books:\n",
    "            self.borrowed_books.remove(book)\n",
    "        else:\n",
    "            raise ValueError(\"Этой книги нет в списке взятых пользователем.\")\n",
    "\n",
    "    def __str__(self):\n",
    "        borrowed = ', '.join([book.title for book in self.borrowed_books]) if self.borrowed_books else \"Нет\"\n",
    "        return f\"Пользователь: {self.name} (Билет: {self.card_number}) | Взятые книги: {borrowed}\"\n",
    "\n",
    "\n",
    "class Library:\n",
    "    def __init__(self):\n",
    "        self.books = []\n",
    "        self.users = []\n",
    "        self.transaction_history = []\n",
    "\n",
    "    def add_book(self, book):\n",
    "        self.books.append(book)\n",
    "\n",
    "    def delete_book(self, isbn):\n",
    "        self.books = [book for book in self.books if book.isbn != isbn]\n",
    "\n",
    "    def add_user(self, user):\n",
    "        self.users.append(user)\n",
    "\n",
    "    def delete_user(self, card_number):\n",
    "        self.users = [user for user in self.users if user.card_number != card_number]\n",
    "\n",
    "    def search_books(self, **criteria):\n",
    "        results = self.books\n",
    "        for key, value in criteria.items():\n",
    "            results = [book for book in results if str(getattr(book, key)).lower() == str(value).lower()]\n",
    "        return results\n",
    "\n",
    "    def search_users(self, **criteria):\n",
    "        results = self.users\n",
    "        for key, value in criteria.items():\n",
    "            results = [user for user in results if str(getattr(user, key)).lower() == str(value).lower()]\n",
    "        return results\n",
    "\n",
    "    def issue_book(self, card_number, isbn):\n",
    "        user_list = self.search_users(card_number=card_number)\n",
    "        book_list = self.search_books(isbn=isbn)\n",
    "        if not user_list:\n",
    "            raise ValueError(\"Пользователь не найден.\")\n",
    "        if not book_list:\n",
    "            raise ValueError(\"Книга не найдена.\")\n",
    "        \n",
    "        user = user_list[0]\n",
    "        book = book_list[0]\n",
    "\n",
    "        if book.copies <= 0:\n",
    "            raise ValueError(\"Нет доступных копий для выдачи.\")\n",
    "\n",
    "        book.update_copies(-1)\n",
    "        user.borrow_book(book)\n",
    "        \n",
    "        self.transaction_history.append({\n",
    "            \"time\": datetime.now(),\n",
    "            \"user\": user.name,\n",
    "            \"card_number\": user.card_number,\n",
    "            \"book\": book.title,\n",
    "            \"isbn\": book.isbn,\n",
    "            \"action\": \"выдана\"\n",
    "        })\n",
    "\n",
    "    def return_book(self, card_number, isbn):\n",
    "        user_list = self.search_users(card_number=card_number)\n",
    "        book_list = self.search_books(isbn=isbn)\n",
    "        if not user_list:\n",
    "            raise ValueError(\"Пользователь не найден.\")\n",
    "        if not book_list:\n",
    "            raise ValueError(\"Книга не найдена.\")\n",
    "        \n",
    "        user = user_list[0]\n",
    "        book = book_list[0]\n",
    "\n",
    "        user.return_book(book)\n",
    "        book.update_copies(1)\n",
    "        \n",
    "        self.transaction_history.append({\n",
    "            \"time\": datetime.now(),\n",
    "            \"user\": user.name,\n",
    "            \"card_number\": user.card_number,\n",
    "            \"book\": book.title,\n",
    "            \"isbn\": book.isbn,\n",
    "            \"action\": \"возвращена\"\n",
    "        })\n",
    "\n",
    "    def display_transaction_history(self):\n",
    "        if not self.transaction_history:\n",
    "            print(\"Нет записей о транзакциях.\")\n",
    "            return\n",
    "        \n",
    "        for transaction in self.transaction_history:\n",
    "            time_str = transaction[\"time\"].strftime(\"%Y-%m-%d %H:%M:%S\")\n",
    "            print(f\"{time_str} - Пользователь: {transaction['user']} (Билет: {transaction['card_number']}) {transaction['action']} книгу '{transaction['book']}' (ISBN: {transaction['isbn']}).\")"
   ]
  },
  {
   "cell_type": "markdown",
   "metadata": {},
   "source": [
    "Пример использования:"
   ]
  },
  {
   "cell_type": "code",
   "execution_count": 27,
   "metadata": {},
   "outputs": [
    {
     "name": "stdout",
     "output_type": "stream",
     "text": [
      "\n",
      "--- История транзакций ---\n",
      "2025-02-16 19:19:05 - Пользователь: Алиса (Билет: CARD001) выдана книгу 'Великий Гэтсби' (ISBN: ISBN001).\n",
      "2025-02-16 19:19:05 - Пользователь: Боб (Билет: CARD002) выдана книгу '1984' (ISBN: ISBN002).\n",
      "2025-02-16 19:19:05 - Пользователь: Алиса (Билет: CARD001) выдана книгу 'Убить пересмешника' (ISBN: ISBN003).\n",
      "2025-02-16 19:19:05 - Пользователь: Алиса (Билет: CARD001) возвращена книгу 'Великий Гэтсби' (ISBN: ISBN001).\n",
      "\n",
      "--- Текущие книги в библиотеке ---\n",
      "'Великий Гэтсби' автор Фрэнсис Скотт Фицджеральд (1925) [ISBN: ISBN001] Копий: 3\n",
      "'1984' автор Джордж Оруэлл (1949) [ISBN: ISBN002] Копий: 1\n",
      "'Убить пересмешника' автор Харпер Ли (1960) [ISBN: ISBN003] Копий: 3\n",
      "\n",
      "--- Текущие пользователи ---\n",
      "Пользователь: Алиса (Билет: CARD001) | Взятые книги: Убить пересмешника\n",
      "Пользователь: Боб (Билет: CARD002) | Взятые книги: 1984\n"
     ]
    }
   ],
   "source": [
    "library = Library()\n",
    "\n",
    "book1 = Book(\"Великий Гэтсби\", \"Фрэнсис Скотт Фицджеральд\", 1925, \"ISBN001\", 3)\n",
    "book2 = Book(\"1984\", \"Джордж Оруэлл\", 1949, \"ISBN002\", 2)\n",
    "book3 = Book(\"Убить пересмешника\", \"Харпер Ли\", 1960, \"ISBN003\", 4)\n",
    "\n",
    "library.add_book(book1)\n",
    "library.add_book(book2)\n",
    "library.add_book(book3)\n",
    "\n",
    "user1 = User(\"Алиса\", \"CARD001\")\n",
    "user2 = User(\"Боб\", \"CARD002\")\n",
    "\n",
    "library.add_user(user1)\n",
    "library.add_user(user2)\n",
    "\n",
    "try:\n",
    "    library.issue_book(\"CARD001\", \"ISBN001\")  # Алиса берет \"Великий Гэтсби\"\n",
    "    library.issue_book(\"CARD002\", \"ISBN002\")  # Боб берет \"1984\"\n",
    "    library.issue_book(\"CARD001\", \"ISBN003\")  # Алиса берет \"Убить пересмешника\"\n",
    "except ValueError as e:\n",
    "    print(\"Ошибка при выдаче:\", e)\n",
    "\n",
    "try:\n",
    "    library.return_book(\"CARD001\", \"ISBN001\")  # Алиса возвращает \"Великий Гэтсби\"\n",
    "except ValueError as e:\n",
    "    print(\"Ошибка при возврате:\", e)\n",
    "\n",
    "print(\"\\n--- История транзакций ---\")\n",
    "library.display_transaction_history()\n",
    "\n",
    "print(\"\\n--- Текущие книги в библиотеке ---\")\n",
    "for book in library.books:\n",
    "    print(book)\n",
    "\n",
    "print(\"\\n--- Текущие пользователи ---\")\n",
    "for user in library.users:\n",
    "    print(user)"
   ]
  },
  {
   "cell_type": "markdown",
   "metadata": {
    "id": "0c8zRbSIoBGl"
   },
   "source": [
    "## Problem 5*"
   ]
  },
  {
   "cell_type": "markdown",
   "metadata": {
    "id": "8ltdzRmOoBGl"
   },
   "source": [
    "Explain why list `b` changes after the execution of the following code:\n",
    "\n",
    "```python\n",
    "a = [1, 2, 3]\n",
    "b = a\n",
    "a[0] = 4\n",
    "print(b)\n",
    "```"
   ]
  },
  {
   "cell_type": "markdown",
   "metadata": {
    "id": "RxgnUfFPoBGl"
   },
   "source": [
    "> Write your answer in markdown cell after:"
   ]
  },
  {
   "cell_type": "markdown",
   "metadata": {
    "id": "Mb-amOX5oBGl"
   },
   "source": [
    "Когда мы присваиваем переменной *b* переменную *a*, идентификатор (\"адрес в памяти\") *b* такой же, как и у *a*. Поэтому результат будет одинаковым, независимо от того, изменяли данные через *a* или *b*."
   ]
  },
  {
   "cell_type": "code",
   "execution_count": 32,
   "metadata": {},
   "outputs": [
    {
     "name": "stdout",
     "output_type": "stream",
     "text": [
      "id(a) = 2446598027392\n",
      "id(b) = 2446598027392\n",
      "[4, 2, 3]\n",
      "[5, 2, 3]\n"
     ]
    }
   ],
   "source": [
    "a = [1, 2, 3]\n",
    "print(\"id(a) =\", id(a))\n",
    "b = a\n",
    "print(\"id(b) =\", id(b))\n",
    "a[0] = 4\n",
    "print(b)\n",
    "b[0] = 5\n",
    "print(a)"
   ]
  },
  {
   "cell_type": "markdown",
   "metadata": {
    "id": "TmXLkc_foBGl"
   },
   "source": [
    "## Problem 6*"
   ]
  },
  {
   "cell_type": "markdown",
   "metadata": {
    "id": "Gn0ibiVCoBGl"
   },
   "source": [
    "Let\n",
    "$$A = \\sum_{i=1}^{10000} \\frac{1}{i^2},\\quad B=\\sum_{i=10000}^{1} \\frac{1}{i^2}.$$\n",
    "Calculate the values of $A$ and $B$ and compare them. What do you observe? Explain why this happens. What is the best way to calculate the value of $\\sum\\limits_{i=1}^{10000} \\dfrac{1}{i^2}$?"
   ]
  },
  {
   "cell_type": "code",
   "execution_count": 35,
   "metadata": {},
   "outputs": [
    {
     "name": "stdout",
     "output_type": "stream",
     "text": [
      "A = 1.6448340718480652\n",
      "B = 1.6448340718480596\n"
     ]
    }
   ],
   "source": [
    "def sum_direct(n):\n",
    "    s = 0.0\n",
    "    for i in range(1, n + 1):\n",
    "        s += 1.0 / (i * i)\n",
    "    return s\n",
    "\n",
    "def sum_reverse(n):\n",
    "    s = 0.0\n",
    "    for i in range(1, n + 1):\n",
    "        s += 1.0 / ((n + 1 - i) * (n + 1 - i))\n",
    "    return s\n",
    "\n",
    "N = 10000\n",
    "A = sum_direct(N)\n",
    "B = sum_reverse(N)\n",
    "\n",
    "print(\"A =\", A)\n",
    "print(\"B =\", B)"
   ]
  },
  {
   "cell_type": "markdown",
   "metadata": {},
   "source": [
    "Видно, что **A** и **B** отличаются."
   ]
  },
  {
   "cell_type": "markdown",
   "metadata": {},
   "source": [
    "Пусть мы хотим сложить два числа **X** и **Y**, где **X** больше **Y**. Процессор сначала сравнивает экспоненты $E_X$ и $E_Y$. Чтобы сложить числа, их нужно «привести» к одной и той же экспоненте. Предположим, что $E_X$ - $E_Y$ = **d**. Если **d** не равен нулю, то мантисса меньшего числа **Y** сдвигается вправо на **d** бит, чтобы «подогнать» экспоненту к $E_X$. В этом случае может получиться так, что мантисса **Y** выйдет за пределы и мы потеряем точность."
   ]
  },
  {
   "cell_type": "markdown",
   "metadata": {},
   "source": [
    "Поэтому лучше складывать числа от меньшего к большему и более точным будет являться **B**."
   ]
  }
 ],
 "metadata": {
  "colab": {
   "provenance": []
  },
  "kernelspec": {
   "display_name": "Python [conda env:base] *",
   "language": "python",
   "name": "conda-base-py"
  },
  "language_info": {
   "codemirror_mode": {
    "name": "ipython",
    "version": 3
   },
   "file_extension": ".py",
   "mimetype": "text/x-python",
   "name": "python",
   "nbconvert_exporter": "python",
   "pygments_lexer": "ipython3",
   "version": "3.12.7"
  }
 },
 "nbformat": 4,
 "nbformat_minor": 4
}
